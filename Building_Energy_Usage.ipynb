{
  "nbformat": 4,
  "nbformat_minor": 0,
  "metadata": {
    "colab": {
      "provenance": []
    },
    "kernelspec": {
      "name": "python3",
      "display_name": "Python 3"
    },
    "language_info": {
      "name": "python"
    }
  },
  "cells": [
    {
      "cell_type": "markdown",
      "source": [
        "**Energy Efficiency in Smart Buildings**"
      ],
      "metadata": {
        "id": "NeLji2Nty3Mk"
      }
    },
    {
      "cell_type": "markdown",
      "source": [
        "**Building Energy Usage Dataset**\n",
        "\n"
      ],
      "metadata": {
        "id": "wjz9ylcas9Wz"
      }
    },
    {
      "cell_type": "markdown",
      "source": [
        "**Problem Statement**\n",
        "\n",
        "Buildings consume around 40% of global energy, especially for heating, cooling, and ventilation. There’s a need to optimize energy usage in smart buildings using AI to reduce energy waste, improve cost efficiency, and contribute to sustainability. This project aims to build a model to predict energy consumption based on occupancy and weather data and provide actionable insights for energy optimization."
      ],
      "metadata": {
        "id": "gZtozUfsy9DZ"
      }
    },
    {
      "cell_type": "markdown",
      "source": [
        "Problem Scoping\n",
        "\n",
        "What?\n",
        "\n",
        "* Build an AI system to predict energy consumption and suggest optimization strategies for smart buildings.\n",
        "\n",
        "Who?\n",
        "\n",
        "* Building managers\n",
        "\n",
        "* Facility engineers\n",
        "\n",
        "* Energy consultants\n",
        "\n",
        "* Sustainability officers\n",
        "\n",
        "Where/When?\n",
        "\n",
        "* Commercial smart buildings\n",
        "\n",
        "* Continuous monitoring (real-time or periodic updates)\n",
        "\n",
        "* Using historical and real-time data over 2 years\n",
        "\n",
        "Why?\n",
        "\n",
        "* To reduce operational costs\n",
        "\n",
        "* Lower carbon footprint\n",
        "\n",
        "* Achieve smart energy efficiency and sustainability goals\n",
        "\n"
      ],
      "metadata": {
        "id": "_VMPC1vqzQmw"
      }
    },
    {
      "cell_type": "code",
      "source": [
        "from google.colab import drive\n",
        "drive.mount('/content/drive')"
      ],
      "metadata": {
        "id": "w-5-OJFZoc_f"
      },
      "execution_count": null,
      "outputs": []
    },
    {
      "cell_type": "markdown",
      "source": [
        "**Load Library**"
      ],
      "metadata": {
        "id": "dpf4EJiXX_MJ"
      }
    },
    {
      "cell_type": "code",
      "source": [
        "import numpy as np\n",
        "import pandas as pd\n",
        "import matplotlib.pyplot as plt\n",
        "import seaborn as sns\n",
        "import datetime\n",
        "from warnings import filterwarnings\n",
        "filterwarnings('ignore')\n",
        "\n",
        "from sklearn.preprocessing import LabelEncoder\n",
        "from sklearn.model_selection import train_test_split\n",
        "from sklearn.linear_model import LogisticRegression\n",
        "from sklearn.tree import DecisionTreeRegressor\n",
        "from sklearn.ensemble import RandomForestRegressor\n",
        "from sklearn.metrics import mean_absolute_error, mean_squared_error, r2_score\n",
        "from sklearn.metrics import accuracy_score, confusion_matrix\n",
        "from sklearn.preprocessing import StandardScaler"
      ],
      "metadata": {
        "id": "woXP3X2Yo9j3"
      },
      "execution_count": null,
      "outputs": []
    },
    {
      "cell_type": "markdown",
      "metadata": {
        "id": "f8c9bde1"
      },
      "source": [
        "## Data Loading\n",
        "\n",
        "This section focuses on loading the dataset into a pandas DataFrame and performing initial checks."
      ]
    },
    {
      "cell_type": "code",
      "source": [
        "data = pd.read_csv('/content/drive/MyDrive/building_energy_data_extended.csv')"
      ],
      "metadata": {
        "id": "B8LV4qNvpARX"
      },
      "execution_count": null,
      "outputs": []
    },
    {
      "cell_type": "code",
      "source": [
        "data.head()"
      ],
      "metadata": {
        "id": "MVufIrl1pXC2"
      },
      "execution_count": null,
      "outputs": []
    },
    {
      "cell_type": "code",
      "source": [
        "new_var = data.columns\n",
        "new_var"
      ],
      "metadata": {
        "id": "PzQu9dT8pcrK"
      },
      "execution_count": null,
      "outputs": []
    },
    {
      "cell_type": "code",
      "source": [
        "# Checking the shape of the data\n",
        "num_rows, num_cols = data.shape\n",
        "\n",
        "print(\"Shape of the Data:\")\n",
        "print(f\"Number of Rows: {num_rows}\")\n",
        "print(f\"Number of Columns: {num_cols}\\n\")"
      ],
      "metadata": {
        "id": "OlLYCSqgpgGk"
      },
      "execution_count": null,
      "outputs": []
    },
    {
      "cell_type": "code",
      "source": [
        "data.info()"
      ],
      "metadata": {
        "id": "d-lhYJECmmXA"
      },
      "execution_count": null,
      "outputs": []
    },
    {
      "cell_type": "code",
      "source": [
        "data.columns"
      ],
      "metadata": {
        "id": "EGbOOmHipngA"
      },
      "execution_count": null,
      "outputs": []
    },
    {
      "cell_type": "markdown",
      "metadata": {
        "id": "21a8566b"
      },
      "source": [
        "## Data Cleaning\n",
        "\n",
        "This section addresses missing values, duplicates, and handles data types as needed."
      ]
    },
    {
      "cell_type": "code",
      "source": [
        "# Check for missing values\n",
        "\n",
        "data.isnull().sum()"
      ],
      "metadata": {
        "id": "1WYt6sDmptZf"
      },
      "execution_count": null,
      "outputs": []
    },
    {
      "cell_type": "code",
      "source": [
        "data.duplicated().sum()"
      ],
      "metadata": {
        "id": "LzJLA9JHm33u"
      },
      "execution_count": null,
      "outputs": []
    },
    {
      "cell_type": "markdown",
      "metadata": {
        "id": "92f61d8c"
      },
      "source": [
        "## Exploratory Data Analysis (EDA)\n",
        "\n",
        "This section involves visualizing data distributions, checking for correlations, and understanding the characteristics of the data."
      ]
    },
    {
      "cell_type": "code",
      "source": [
        "data.describe().T"
      ],
      "metadata": {
        "id": "JwEmfP9ynAvK"
      },
      "execution_count": null,
      "outputs": []
    },
    {
      "cell_type": "code",
      "source": [
        "data['Energy_Usage (kWh)'].plot(kind='hist',figsize=(10,5))\n",
        "plt.legend()\n",
        "plt.show()"
      ],
      "metadata": {
        "id": "tE6Ih-6-nKwQ"
      },
      "execution_count": null,
      "outputs": []
    },
    {
      "cell_type": "code",
      "source": [
        "data['Temperature (°C)'].plot(kind='hist',figsize=(10,5))\n",
        "plt.legend()\n",
        "plt.show()"
      ],
      "metadata": {
        "id": "LcpiCQDynRin"
      },
      "execution_count": null,
      "outputs": []
    },
    {
      "cell_type": "code",
      "source": [
        "data['Humidity (%)'].plot(kind='hist',figsize=(10,5))\n",
        "plt.legend()\n",
        "plt.show()"
      ],
      "metadata": {
        "id": "O2zczz2YnYWP"
      },
      "execution_count": null,
      "outputs": []
    },
    {
      "cell_type": "code",
      "source": [
        "data['Building_Type'].value_counts().plot(kind='bar', figsize=(10,5))\n",
        "plt.legend()\n",
        "plt.show()"
      ],
      "metadata": {
        "id": "7y7tHlr6n9vJ"
      },
      "execution_count": null,
      "outputs": []
    },
    {
      "cell_type": "code",
      "source": [
        "data['Occupancy_Level'].value_counts().plot(kind='bar', figsize=(10,5))\n",
        "plt.legend()\n",
        "plt.show()"
      ],
      "metadata": {
        "id": "hnRtfcx0oNcQ"
      },
      "execution_count": null,
      "outputs": []
    },
    {
      "cell_type": "markdown",
      "source": [
        "**Boxplot:**\n",
        "\n",
        "* What it shows:\n",
        "\n",
        "Boxplots display the distribution of numerical data and highlight potential outliers. In this case, you've plotted boxplots for 'Energy_Usage (kWh)', 'Temperature (°C)', and 'Humidity (%)'.\n",
        "\n",
        "* Analysis of results:\n",
        "\n",
        "The boxplot for 'Energy_Usage (kWh)' shows a relatively wide spread of data, with the median around 280 kWh. There appear to be no significant outliers in this feature based on the plot. The boxplots for 'Temperature (°C)' and 'Humidity (%)' also show distributions without obvious extreme outliers."
      ],
      "metadata": {
        "id": "I_GsiqyS5KQB"
      }
    },
    {
      "cell_type": "code",
      "source": [
        "sns.boxplot(data=data[[ 'Energy_Usage (kWh)', 'Temperature (°C)','Humidity (%)']])"
      ],
      "metadata": {
        "id": "KTwqJo_So7IK"
      },
      "execution_count": null,
      "outputs": []
    },
    {
      "cell_type": "markdown",
      "source": [
        "**Displot:**\n",
        "\n",
        "* What it shows:\n",
        "\n",
        "A displot (distribution plot) shows the distribution of a single variable. In this case, it's for 'Energy_Usage (kWh)'.\n",
        "\n",
        "* Analysis of results:\n",
        "\n",
        "The displot for 'Energy_Usage (kWh)' shows a fairly uniform distribution across the range of values. This means that energy usage values are distributed quite evenly between the minimum and maximum values, without strong peaks or skewness."
      ],
      "metadata": {
        "id": "6Ug5yPp07lMR"
      }
    },
    {
      "cell_type": "code",
      "source": [
        "sns.displot(data, x= \"Energy_Usage (kWh)\", color=\"blue\")\n",
        "plt.show()"
      ],
      "metadata": {
        "id": "Oyt-4xHFpau6"
      },
      "execution_count": null,
      "outputs": []
    },
    {
      "cell_type": "code",
      "source": [
        "# Drop the 'Timestamp' column\n",
        "data = data.drop('Timestamp', axis=1)\n",
        "data"
      ],
      "metadata": {
        "id": "xhWUALxtqGPK"
      },
      "execution_count": null,
      "outputs": []
    },
    {
      "cell_type": "markdown",
      "source": [
        "**Heapmap:**\n",
        "\n",
        "* What it shows:\n",
        "\n",
        "A heatmap visualizes the correlation matrix between numerical variables. The color intensity indicates the strength and direction of the correlation (positive or negative).\n",
        "\n",
        "* Analysis of results:\n",
        "\n",
        "The heatmap shows the correlation coefficients between the encoded 'Building_ID', 'Energy_Usage (kWh)', 'Temperature (°C)', 'Humidity (%)', 'Building_Type', and 'Occupancy_Level'.\n",
        "\n",
        "The diagonal line is always 1, representing the correlation of a variable with itself.\n",
        "\n",
        "The correlations between 'Energy_Usage (kWh)' and the other features are very close to zero (e.g., 0.016 with 'Building_ID', 0.0095 with 'Temperature (°C)', -0.0081 with 'Humidity (%)', 0.0089 with 'Building_Type', and -0.0065 with 'Occupancy_Level').\n",
        "\n",
        "This suggests that there is very little linear relationship between energy usage and these individual features in this dataset.\n",
        "\n",
        "This finding is consistent with the poor performance of the linear regression model we observed earlier."
      ],
      "metadata": {
        "id": "GsmyVA5e5yhQ"
      }
    },
    {
      "cell_type": "code",
      "source": [
        "from sklearn.preprocessing import LabelEncoder\n",
        "\n",
        "# Encode categorical features\n",
        "if 'Building_ID' in data.columns and data['Building_ID'].dtype == 'object':\n",
        "    data['Building_ID'] = LabelEncoder().fit_transform(data['Building_ID'])\n",
        "if 'Building_Type' in data.columns and data['Building_Type'].dtype == 'object':\n",
        "    data['Building_Type'] = LabelEncoder().fit_transform(data['Building_Type'])\n",
        "if 'Occupancy_Level' in data.columns and data['Occupancy_Level'].dtype == 'object':\n",
        "    data['Occupancy_Level'] = LabelEncoder().fit_transform(data['Occupancy_Level'])\n",
        "\n",
        "plt.figure(figsize=(12, 8))\n",
        "sns.heatmap(data.corr(numeric_only=True), annot=True, cmap='coolwarm')\n",
        "plt.show()"
      ],
      "metadata": {
        "id": "SdIjPt3QpsSp"
      },
      "execution_count": null,
      "outputs": []
    },
    {
      "cell_type": "markdown",
      "source": [
        "**Pairplot:**\n",
        "\n",
        "* What it shows:\n",
        "\n",
        "A pairplot creates a grid of scatter plots for all pairs of numerical variables in the dataset, and histograms for each individual numerical variable along the diagonal. It helps visualize relationships and distributions among multiple variables simultaneously.\n",
        "* Analysis of results:\n",
        "\n",
        "The pairplot reinforces the observations from the individual histograms and the heatmap. The scatter plots between 'Energy_Usage (kWh)' and the other features show no clear linear patterns or strong relationships. The distributions along the diagonal are consistent with the individual histograms and displots. The plots involving the encoded categorical variables ('Building_ID', 'Building_Type', 'Occupancy_Level') show discrete points or clusters, as expected.\n"
      ],
      "metadata": {
        "id": "i5aRXS4l8G4o"
      }
    },
    {
      "cell_type": "code",
      "source": [
        "sns.pairplot(data)\n",
        "plt.show()"
      ],
      "metadata": {
        "id": "6K2sc4N8qX-z"
      },
      "execution_count": null,
      "outputs": []
    },
    {
      "cell_type": "markdown",
      "metadata": {
        "id": "a48ff594"
      },
      "source": [
        "## Data Modeling\n",
        "\n",
        "This section covers preparing the data for machine learning models and training different regression algorithms."
      ]
    },
    {
      "cell_type": "code",
      "source": [
        "from sklearn.linear_model import LinearRegression\n",
        "from sklearn.metrics import r2_score\n",
        "from sklearn.tree import DecisionTreeRegressor, plot_tree\n",
        "from sklearn.ensemble import RandomForestRegressor\n",
        "from sklearn.neighbors import KNeighborsRegressor"
      ],
      "metadata": {
        "id": "OYqm8-OvrCv-"
      },
      "execution_count": null,
      "outputs": []
    },
    {
      "cell_type": "code",
      "source": [
        "x = data[['Building_ID', 'Temperature (°C)', 'Humidity (%)', 'Building_Type', 'Occupancy_Level']]\n",
        "y = data['Energy_Usage (kWh)']"
      ],
      "metadata": {
        "id": "GOM8j2wmrKAQ"
      },
      "execution_count": null,
      "outputs": []
    },
    {
      "cell_type": "code",
      "source": [
        "x.head()"
      ],
      "metadata": {
        "id": "X5x0zUBRrMvq"
      },
      "execution_count": null,
      "outputs": []
    },
    {
      "cell_type": "code",
      "source": [
        "y.head()"
      ],
      "metadata": {
        "id": "FWPubgIBrR3l"
      },
      "execution_count": null,
      "outputs": []
    },
    {
      "cell_type": "code",
      "source": [
        "X_train, X_test, Y_train, Y_test = train_test_split(x, y, test_size=0.2, random_state=42)\n",
        "print(X_train.shape, X_test.shape, Y_train.shape, Y_test.shape)"
      ],
      "metadata": {
        "id": "9gEgbnRGremV"
      },
      "execution_count": null,
      "outputs": []
    },
    {
      "cell_type": "markdown",
      "metadata": {
        "id": "fd54ad8f"
      },
      "source": [
        "## Model Evaluation\n",
        "\n",
        "This section evaluates the performance of the trained models using relevant metrics and visualizations."
      ]
    },
    {
      "cell_type": "markdown",
      "source": [
        "**Analysis of Linear Regression Results:**\n",
        "\n",
        "**Metrics:**\n",
        "\n",
        "The RMSE (Root Mean Squared Error) on the test data is approximately 129.14 kWh, and the R-squared value is around 0.000.\n",
        "* The high RMSE indicates that, on average, the model's predictions are about 129.14 kWh away from the actual energy usage values.\n",
        "* The R-squared value of 0.000 is very low and close to zero. This means that the linear regression model explains almost none of the variance in the energy usage data. An R-squared of 0 suggests that the model performs no better than simply predicting the mean of the target variable.\n",
        "\n",
        "**Scatter Plot:**\n",
        "\n",
        "* The scatter plot of actual vs. predicted energy usage shows that all the predicted values are clustered around a single value (approximately 278 kWh, which is close to the mean energy usage).\n",
        "* The points do not follow the perfect prediction diagonal line at all.\n",
        "* This visual confirms the low R-squared value and indicates that the linear model is essentially predicting the average energy usage regardless of the input features.\n",
        "* This suggests that the linear relationship between the selected features and energy usage is very weak in this dataset."
      ],
      "metadata": {
        "id": "-l52Y2Aa9mLL"
      }
    },
    {
      "cell_type": "code",
      "source": [
        "# Train Linear Regression\n",
        "lr_model = LinearRegression()\n",
        "lr_model.fit(X_train, Y_train)"
      ],
      "metadata": {
        "id": "C8q9m5LZrsZ4"
      },
      "execution_count": null,
      "outputs": []
    },
    {
      "cell_type": "code",
      "source": [
        "# Predictions\n",
        "train_pred = lr_model.predict(X_train)\n",
        "test_pred = lr_model.predict(X_test)"
      ],
      "metadata": {
        "id": "AfA4kUANrwdh"
      },
      "execution_count": null,
      "outputs": []
    },
    {
      "cell_type": "code",
      "source": [
        "# Metrics\n",
        "RMSE_train = np.sqrt(mean_squared_error(Y_train, train_pred))\n",
        "RMSE_test = np.sqrt(mean_squared_error(Y_test, test_pred))\n",
        "R2_train = r2_score(Y_train, train_pred)\n",
        "R2_test = r2_score(Y_test, test_pred)\n",
        "\n",
        "print(\"RMSE TrainingData =\", RMSE_train)\n",
        "print(\"RMSE TestData =\", RMSE_test)\n",
        "print(\"-\" * 50)\n",
        "print(\"R² on Train =\", R2_train)\n",
        "print(\"R² on Test =\", R2_test)"
      ],
      "metadata": {
        "id": "1k2USeRRr3AT"
      },
      "execution_count": null,
      "outputs": []
    },
    {
      "cell_type": "code",
      "source": [
        "# --- Scatter Plot ---\n",
        "plt.figure(figsize=(8, 6))\n",
        "plt.scatter(Y_test, test_pred, alpha=0.5, edgecolors='k')\n",
        "\n",
        "# Perfect prediction line\n",
        "min_val = min(Y_test.min(), test_pred.min())\n",
        "max_val = max(Y_test.max(), test_pred.max())\n",
        "plt.plot([min_val, max_val], [min_val, max_val], 'r--', lw=2, label='Perfect Prediction')\n",
        "\n",
        "# Labels & Title\n",
        "plt.xlabel(\"Actual Energy Usage (kWh)\")\n",
        "plt.ylabel(\"Predicted Energy Usage (kWh)\")\n",
        "plt.title(\"Actual vs Predicted Energy Usage (Linear Regression)\")\n",
        "\n",
        "# Add RMSE & R² inside plot\n",
        "plt.text(min_val + (max_val-min_val)*0.05, max_val - (max_val-min_val)*0.05,\n",
        "         f\"RMSE = {RMSE_test:.2f}\\nR² = {R2_test:.3f}\",\n",
        "         fontsize=12, bbox=dict(facecolor='white', alpha=0.6))\n",
        "\n",
        "plt.legend()\n",
        "plt.grid(True)\n",
        "plt.savefig('linear_regression_scatter_plot.png') # Save the figure\n",
        "plt.show()"
      ],
      "metadata": {
        "id": "10WJ9WAJ2KAD"
      },
      "execution_count": null,
      "outputs": []
    },
    {
      "cell_type": "markdown",
      "metadata": {
        "id": "a61c9ed0"
      },
      "source": [
        "**Analysis of Random Forest Results:**\n",
        "\n",
        "*   **Metrics:** The RMSE on the training data is approximately 119.25 kWh, and on the test data, it's around 129.95 kWh. The R-squared on the training data is about 0.156, and on the test data, it's around -0.012.\n",
        "    *   The RMSE values are still quite high, similar to the linear regression model, indicating a significant average prediction error.\n",
        "    *   The R-squared value on the test data is negative (-0.012). A negative R-squared indicates that the model performs worse than simply predicting the mean of the target variable. The R-squared on the training data is low (0.156), suggesting the model explains only a small percentage of the variance in the training data.\n",
        "*   **Scatter Plot:** The scatter plot of actual vs. predicted energy usage for the Random Forest model also shows the predicted values clustered around a central value, similar to the linear regression plot. There is no clear linear trend along the perfect prediction line.\n",
        "    *   This visual confirms the low and negative R-squared values and suggests that the Random Forest model, with the current features and hyperparameters, is not effectively capturing the patterns in the data to accurately predict energy usage."
      ]
    },
    {
      "cell_type": "code",
      "source": [
        "model = RandomForestRegressor(\n",
        "    n_estimators=200,\n",
        "    max_depth=10,\n",
        "    min_samples_split=5,\n",
        "    min_samples_leaf=4,\n",
        "    max_features='sqrt',\n",
        "    random_state=42\n",
        ")\n",
        "model.fit(X_train, Y_train)"
      ],
      "metadata": {
        "id": "_bb-c6Rnt7fd"
      },
      "execution_count": null,
      "outputs": []
    },
    {
      "cell_type": "code",
      "source": [
        "train_pred = model.predict(X_train)\n",
        "test_pred = model.predict(X_test)"
      ],
      "metadata": {
        "id": "ERqURCsWxGgP"
      },
      "execution_count": null,
      "outputs": []
    },
    {
      "cell_type": "code",
      "source": [
        "# Metrics\n",
        "RMSE_train = np.sqrt(mean_squared_error(Y_train, train_pred))\n",
        "RMSE_test = np.sqrt(mean_squared_error(Y_test, test_pred))\n",
        "\n",
        "print(\"RMSE TrainingData = \", RMSE_train)\n",
        "print(\"RMSE TestData = \", RMSE_test)\n",
        "print(\"-\" * 50)\n",
        "print(\"R² on Train : \", r2_score(Y_train, train_pred))\n",
        "print(\"R² on Test : \", r2_score(Y_test, test_pred))"
      ],
      "metadata": {
        "id": "uetVyT-axKzy"
      },
      "execution_count": null,
      "outputs": []
    },
    {
      "cell_type": "code",
      "source": [
        "import matplotlib.pyplot as plt\n",
        "from sklearn.metrics import mean_squared_error, r2_score\n",
        "import numpy as np\n",
        "\n",
        "# Calculate metrics\n",
        "rmse_test = np.sqrt(mean_squared_error(Y_test, test_pred))\n",
        "r2_test = r2_score(Y_test, test_pred)\n",
        "\n",
        "# Create scatter plot\n",
        "plt.figure(figsize=(8, 6))\n",
        "plt.scatter(Y_test, test_pred, alpha=0.5, edgecolors='k')\n",
        "\n",
        "# Plot the perfect prediction diagonal\n",
        "min_val = min(Y_test.min(), test_pred.min())\n",
        "max_val = max(Y_test.max(), test_pred.max()) # Corrected from test_val\n",
        "plt.plot([min_val, max_val], [min_val, max_val], 'r--', lw=2, label='Perfect Prediction')\n",
        "\n",
        "# Labels and title\n",
        "plt.xlabel(\"Actual Energy Usage (kWh)\")\n",
        "plt.ylabel(\"Predicted Energy Usage (kWh)\")\n",
        "plt.title(\"Actual vs Predicted Energy Usage (Random Forest)\")\n",
        "\n",
        "# Add RMSE & R² text\n",
        "plt.text(min_val + (max_val-min_val)*0.05, max_val - (max_val-min_val)*0.05,\n",
        "         f\"RMSE = {rmse_test:.2f}\\nR² = {r2_test:.3f}\",\n",
        "         fontsize=12, bbox=dict(facecolor='white', alpha=0.6))\n",
        "\n",
        "plt.legend()\n",
        "plt.grid(True)\n",
        "plt.savefig('random_forest_scatter_plot.png') # Save the figure\n",
        "plt.show()"
      ],
      "metadata": {
        "id": "Z7iyxWYkxbVJ"
      },
      "execution_count": null,
      "outputs": []
    },
    {
      "cell_type": "markdown",
      "metadata": {
        "id": "ddc6ba74"
      },
      "source": [
        "**Analysis of Decision Tree Results:**\n",
        "\n",
        "*   **Metrics:** The RMSE on the training data is approximately 120.65 kWh, and on the test data, it's around 139.49 kWh. The R-squared on the training data is about 0.136, and on the test data, it's around -0.167.\n",
        "    *   Similar to the other models, the RMSE is high, indicating a significant average prediction error.\n",
        "    *   The R-squared values are low and negative on the test set (-0.167), suggesting that the Decision Tree model, with the current configuration, also performs worse than simply predicting the mean of the target variable on unseen data.\n",
        "*   **Scatter Plot:** The scatter plot of actual vs. predicted energy usage for the Decision Tree model shows some scattered points, but they are not closely aligned with the perfect prediction line. There is a tendency for the predicted values to cluster, although there is more variation than in the Linear Regression plot.\n",
        "    *   This visual confirms the low R-squared value and indicates that the Decision Tree model is not accurately capturing the underlying patterns in the data to predict energy usage effectively."
      ]
    },
    {
      "cell_type": "code",
      "source": [
        "dt_model = DecisionTreeRegressor(\n",
        "    max_depth=10,\n",
        "    min_samples_split=5,\n",
        "    min_samples_leaf=4,\n",
        "    random_state=42\n",
        ")\n",
        "dt_model.fit(X_train, Y_train)"
      ],
      "metadata": {
        "id": "OqHNNadZ0W1C"
      },
      "execution_count": null,
      "outputs": []
    },
    {
      "cell_type": "code",
      "source": [
        "# Predictions\n",
        "train_pred = dt_model.predict(X_train)\n",
        "test_pred = dt_model.predict(X_test)"
      ],
      "metadata": {
        "id": "t13F_uHI0_5Z"
      },
      "execution_count": null,
      "outputs": []
    },
    {
      "cell_type": "code",
      "source": [
        "# Metrics\n",
        "RMSE_train = np.sqrt(mean_squared_error(Y_train, train_pred))\n",
        "RMSE_test = np.sqrt(mean_squared_error(Y_test, test_pred))\n",
        "R2_train = r2_score(Y_train, train_pred)\n",
        "R2_test = r2_score(Y_test, test_pred)\n",
        "\n",
        "print(\"RMSE TrainingData =\", RMSE_train)\n",
        "print(\"RMSE TestData =\", RMSE_test)\n",
        "print(\"-\" * 50)\n",
        "print(\"R² on Train =\", R2_train)\n",
        "print(\"R² on Test =\", R2_test)"
      ],
      "metadata": {
        "id": "48V7j-rz0eu3"
      },
      "execution_count": null,
      "outputs": []
    },
    {
      "cell_type": "code",
      "source": [
        "# --- Scatter Plot with diagonal & metrics ---\n",
        "plt.figure(figsize=(8, 6))\n",
        "plt.scatter(Y_test, test_pred, alpha=0.5, edgecolors='k')\n",
        "\n",
        "# Perfect prediction line\n",
        "min_val = min(Y_test.min(), test_pred.min())\n",
        "max_val = max(Y_test.max(), test_pred.max())\n",
        "plt.plot([min_val, max_val], [min_val, max_val], 'r--', lw=2, label='Perfect Prediction')\n",
        "\n",
        "# Labels and title\n",
        "plt.xlabel(\"Actual Energy Usage (kWh)\")\n",
        "plt.ylabel(\"Predicted Energy Usage (kWh)\")\n",
        "plt.title(\"Actual vs Predicted Energy Usage (Decision Tree)\")\n",
        "\n",
        "# Add RMSE & R² text\n",
        "plt.text(min_val + (max_val-min_val)*0.05, max_val - (max_val-min_val)*0.05,\n",
        "         f\"RMSE = {RMSE_test:.2f}\\nR² = {R2_test:.3f}\",\n",
        "         fontsize=12, bbox=dict(facecolor='white', alpha=0.6))\n",
        "\n",
        "plt.legend()\n",
        "plt.grid(True)\n",
        "plt.savefig('decision_tree_scatter_plot.png') # Save the figure\n",
        "plt.show()"
      ],
      "metadata": {
        "id": "yeQJ8FGs0kyG"
      },
      "execution_count": null,
      "outputs": []
    },
    {
      "cell_type": "code",
      "source": [
        "from sklearn.model_selection import cross_val_score\n",
        "\n",
        "# Create lists to store RMSE for different n_neighbors values\n",
        "rmse_scores = []\n",
        "n_neighbors_values = range(1, 21) # Check n_neighbors from 1 to 20\n",
        "\n",
        "for n in n_neighbors_values:\n",
        "    knn_model = KNeighborsRegressor(n_neighbors=n)\n",
        "    # Use negative mean squared error as scoring and take the absolute value and then sqrt for RMSE\n",
        "    scores = cross_val_score(knn_model, X_train, Y_train, cv=5, scoring='neg_mean_squared_error')\n",
        "    rmse = np.sqrt(-scores.mean())\n",
        "    rmse_scores.append(rmse)\n",
        "\n",
        "# Find the optimal n_neighbors with the lowest RMSE\n",
        "optimal_n_neighbors = n_neighbors_values[np.argmin(rmse_scores)]\n",
        "print(f\"Optimal n_neighbors: {optimal_n_neighbors}\")\n",
        "\n",
        "# Plot the RMSE for different n_neighbors\n",
        "plt.figure(figsize=(10, 6))\n",
        "plt.plot(n_neighbors_values, rmse_scores, marker='o')\n",
        "plt.xlabel('Number of Neighbors (n_neighbors)')\n",
        "plt.ylabel('Cross-Validated RMSE')\n",
        "plt.title('RMSE vs. Number of Neighbors for KNN Regression')\n",
        "plt.xticks(n_neighbors_values)\n",
        "plt.grid(True)\n",
        "plt.show()"
      ],
      "metadata": {
        "id": "Sn5R3ycusTS4"
      },
      "execution_count": null,
      "outputs": []
    },
    {
      "cell_type": "markdown",
      "metadata": {
        "id": "d32c5de6"
      },
      "source": [
        "**Analysis of KNN Regression Results:**\n",
        "\n",
        "*   **Metrics:** The RMSE on the training data is approximately 0.0 kWh, and on the test data, it's around 141.91 kWh. The R-squared on the training data is 1.0, and on the test data, it's around -0.207.\n",
        "    *   The RMSE of 0.0 and R-squared of 1.0 on the training data indicate perfect fitting to the training data. This is expected when using `weights='distance'` in KNN, where the prediction for a training point is the point itself. This is a sign of overfitting.\n",
        "    *   The high RMSE (141.91 kWh) and negative R-squared (-0.207) on the test data show that the model performs poorly on unseen data, even worse than simply predicting the mean. This confirms the overfitting observed on the training data.\n",
        "*   **Scatter Plot:** The scatter plot of actual vs. predicted energy usage for the KNN Regressor shows points scattered around the central predicted value, with some points aligned with the perfect prediction line (likely the training points that are also in the test set, due to the `weights='distance'` setting). However, the overall spread on the test data is large, and the predictions do not follow the diagonal line well.\n",
        "    *   This visual reinforces the poor performance on the test set and the issue of overfitting."
      ]
    },
    {
      "cell_type": "code",
      "source": [
        "# Train KNN Regressor\n",
        "knn_model = KNeighborsRegressor(\n",
        "    n_neighbors=5,\n",
        "    weights='distance',\n",
        "    metric='minkowski',\n",
        "    p=2\n",
        ")\n",
        "knn_model.fit(X_train, Y_train)"
      ],
      "metadata": {
        "id": "0sF6rdVAsbiA"
      },
      "execution_count": null,
      "outputs": []
    },
    {
      "cell_type": "code",
      "source": [
        "# Predictions\n",
        "train_pred = knn_model.predict(X_train)\n",
        "test_pred = knn_model.predict(X_test)"
      ],
      "metadata": {
        "id": "QemGhLga1NGp"
      },
      "execution_count": null,
      "outputs": []
    },
    {
      "cell_type": "code",
      "source": [
        "# Metrics\n",
        "RMSE_train = np.sqrt(mean_squared_error(Y_train, train_pred))\n",
        "RMSE_test = np.sqrt(mean_squared_error(Y_test, test_pred))\n",
        "R2_train = r2_score(Y_train, train_pred)\n",
        "R2_test = r2_score(Y_test, test_pred)\n",
        "\n",
        "print(\"RMSE TrainingData =\", RMSE_train)\n",
        "print(\"RMSE TestData =\", RMSE_test)\n",
        "print(\"-\" * 50)\n",
        "print(\"R² on Train =\", R2_train)\n",
        "print(\"R² on Test =\", R2_test)"
      ],
      "metadata": {
        "id": "O4B7mF3Lsh8z"
      },
      "execution_count": null,
      "outputs": []
    },
    {
      "cell_type": "code",
      "source": [
        "# --- Scatter Plot ---\n",
        "plt.figure(figsize=(8, 6))\n",
        "plt.scatter(Y_test, test_pred, alpha=0.5, edgecolors='k')\n",
        "\n",
        "# Perfect prediction line\n",
        "min_val = min(Y_test.min(), test_pred.min())\n",
        "max_val = max(Y_test.max(), test_pred.max())\n",
        "plt.plot([min_val, max_val], [min_val, max_val], 'r--', lw=2, label='Perfect Prediction')\n",
        "\n",
        "# Labels & Title\n",
        "plt.xlabel(\"Actual Energy Usage (kWh)\")\n",
        "plt.ylabel(\"Predicted Energy Usage (kWh)\")\n",
        "plt.title(\"Actual vs Predicted Energy Usage (KNN Regressor)\")\n",
        "\n",
        "# Add RMSE & R² inside plot\n",
        "plt.text(min_val + (max_val-min_val)*0.05, max_val - (max_val-min_val)*0.05,\n",
        "         f\"RMSE = {RMSE_test:.2f}\\nR² = {R2_test:.3f}\",\n",
        "         fontsize=12, bbox=dict(facecolor='white', alpha=0.6))\n",
        "\n",
        "plt.legend()\n",
        "plt.grid(True)\n",
        "plt.savefig('knn_regression_scatter_plot.png') # Save the figure\n",
        "plt.show()"
      ],
      "metadata": {
        "id": "5Nahj5S5udOC"
      },
      "execution_count": null,
      "outputs": []
    }
  ]
}